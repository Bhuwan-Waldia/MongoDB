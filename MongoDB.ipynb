{
 "cells": [
  {
   "cell_type": "markdown",
   "id": "median-shift",
   "metadata": {},
   "source": [
    "## MongoDB"
   ]
  },
  {
   "cell_type": "code",
   "execution_count": null,
   "id": "silent-columbus",
   "metadata": {},
   "outputs": [],
   "source": [
    "It is NoSQL dataBase\n",
    "\n",
    "JSON like structure\n",
    "\n",
    "JSON >> Dict\n",
    "Dict >> Key and Values \n",
    "Values >> It can be nested dict"
   ]
  },
  {
   "cell_type": "code",
   "execution_count": null,
   "id": "backed-twelve",
   "metadata": {},
   "outputs": [],
   "source": [
    "1. Data Gathering:\n",
    "    Data Engineers\n",
    "    \n",
    "    Raw Data\n",
    "    \n",
    "MySQL    >> Relational DataBase(Tabular form >> )\n",
    "    Tabular form :(tables)\n",
    "        1. Rows\n",
    "        2. Columns\n",
    "        \n",
    "MongoDB  >> Non-Relation Relational DataBase\n",
    "    Non-Tabular Form (Collections)\n",
    "        1. Keys and Values\n",
    "        2. Document Based Database\n",
    "    \n",
    "\n",
    "Read Data from DataBase:\n",
    "    Client >> 20 Tables\n",
    "\n",
    "    1M rows\n",
    "    Phase1: \n",
    "        Read all Data\n",
    "        Select Required Tables on the basis of domain knowledge\n",
    "        5 Tables or 5 collection\n",
    "\n",
    "\n",
    "    Phase2:\n",
    "        table1 >> 5 >> 5 \n",
    "        table2 >> 10 >> 8\n",
    "        table3 >> 8 >> 5\n",
    "        table4 >> 10 >> 7\n",
    "        Table5 >> 15 >> 10\n",
    "        48 >> 35\n",
    "        SQL Join Queries for 35 columns\n",
    "\n",
    "    Phase3:\n",
    "        Feature Selection\n",
    "        Final Model >> 30\n",
    "        Update queries\n",
    "\n",
    "        \n",
    "Save data in DataBase:\n",
    "    Flask APIs:\n",
    "        Registration (Save)\n",
    "        Login        (Access)\n",
    "        prediction : Insert Values for prediction and Save Predicted results\n",
    "        Upload Documents (PAN Card):\n",
    "            Save image paths\n",
    "            Save attributes(extracted fields)\n",
    "\n",
    "        \n",
    "DataBase >> Database\n",
    "SQL    >> NoSQL\n",
    "Table  >> Collection\n",
    "Rows   >> Document (Rows data)\n",
    "Column >> Keys"
   ]
  },
  {
   "cell_type": "code",
   "execution_count": null,
   "id": "elementary-smile",
   "metadata": {},
   "outputs": [],
   "source": [
    "1. Create Database\n",
    "2. Create Collection\n",
    "3. Documents/Records"
   ]
  },
  {
   "cell_type": "code",
   "execution_count": null,
   "id": "three-commodity",
   "metadata": {},
   "outputs": [],
   "source": [
    "1. Create Database\n",
    "2. Insert Data\n",
    "3. Update\n",
    "4. Delete\n",
    "5. Read Data\n",
    "6. Sorting"
   ]
  },
  {
   "cell_type": "markdown",
   "id": "suffering-third",
   "metadata": {},
   "source": [
    "### Required Application"
   ]
  },
  {
   "cell_type": "code",
   "execution_count": null,
   "id": "pointed-investigator",
   "metadata": {},
   "outputs": [],
   "source": [
    "https://www.mongodb.com/try/download/community\n",
    "    \n",
    "pymongo\n",
    "\n",
    "pip install pymongo\n",
    "conda install -c anaconda pymongo\n",
    "\n",
    "1. MongoDB Compass\n",
    "2. NOSQL Booster >> https://nosqlbooster.com/downloads\n",
    "    \n",
    "Default MongoDB port : 27017"
   ]
  },
  {
   "cell_type": "code",
   "execution_count": 2,
   "id": "fuzzy-diameter",
   "metadata": {},
   "outputs": [
    {
     "data": {
      "text/plain": [
       "MongoClient(host=['localhost:27017'], document_class=dict, tz_aware=False, connect=True)"
      ]
     },
     "execution_count": 2,
     "metadata": {},
     "output_type": "execute_result"
    }
   ],
   "source": [
    "import pymongo\n",
    "\n",
    "mongo_client = pymongo.MongoClient(\"mongodb://localhost:27017\")\n",
    "mongo_client"
   ]
  },
  {
   "cell_type": "markdown",
   "id": "golden-surfing",
   "metadata": {},
   "source": [
    "## 1. Create DataBase"
   ]
  },
  {
   "cell_type": "code",
   "execution_count": 4,
   "id": "satisfactory-spectrum",
   "metadata": {},
   "outputs": [
    {
     "data": {
      "text/plain": [
       "Database(MongoClient(host=['localhost:27017'], document_class=dict, tz_aware=False, connect=True), 'project_db')"
      ]
     },
     "execution_count": 4,
     "metadata": {},
     "output_type": "execute_result"
    }
   ],
   "source": [
    "database_name = 'project_db' # 'insurence_db', 'iris_db', 'diabetes_db', 'loan_db'\n",
    "\n",
    "db = mongo_client[database_name]\n",
    "db"
   ]
  },
  {
   "cell_type": "markdown",
   "id": "talented-procurement",
   "metadata": {},
   "source": [
    "### Check DataBase"
   ]
  },
  {
   "cell_type": "code",
   "execution_count": 138,
   "id": "quick-stations",
   "metadata": {},
   "outputs": [
    {
     "data": {
      "text/plain": [
       "['admin', 'config', 'local', 'project_db']"
      ]
     },
     "execution_count": 138,
     "metadata": {},
     "output_type": "execute_result"
    }
   ],
   "source": [
    "db_names = mongo_client.list_database_names()\n",
    "db_names"
   ]
  },
  {
   "cell_type": "markdown",
   "id": "resistant-toyota",
   "metadata": {},
   "source": [
    "## 2. Create Collection"
   ]
  },
  {
   "cell_type": "code",
   "execution_count": 19,
   "id": "democratic-finland",
   "metadata": {},
   "outputs": [],
   "source": [
    "collection_user = db['user_details']\n",
    "collection_variables = db['Project_variables']\n",
    "collection_result = db['extracted_result']\n",
    "collection_action_movies = db['action_movies']\n",
    "collection_iris = db['iris_data']\n",
    "collection_emp_data = db['emp_data']"
   ]
  },
  {
   "cell_type": "markdown",
   "id": "backed-leather",
   "metadata": {},
   "source": [
    "### Check Collection"
   ]
  },
  {
   "cell_type": "code",
   "execution_count": 139,
   "id": "greater-source",
   "metadata": {},
   "outputs": [
    {
     "data": {
      "text/plain": [
       "['user_details', 'emp_data']"
      ]
     },
     "execution_count": 139,
     "metadata": {},
     "output_type": "execute_result"
    }
   ],
   "source": [
    "collections_list = db.list_collection_names()\n",
    "collections_list"
   ]
  },
  {
   "cell_type": "markdown",
   "id": "supreme-advancement",
   "metadata": {},
   "source": [
    "### 3. Insert Document"
   ]
  },
  {
   "cell_type": "code",
   "execution_count": null,
   "id": "dying-reducing",
   "metadata": {},
   "outputs": [],
   "source": [
    "Document >> Record >> Rows"
   ]
  },
  {
   "cell_type": "markdown",
   "id": "polish-ozone",
   "metadata": {},
   "source": [
    "#### 3.1 insert_one()"
   ]
  },
  {
   "cell_type": "code",
   "execution_count": null,
   "id": "strategic-freeware",
   "metadata": {},
   "outputs": [],
   "source": [
    "collection.insert_one(query)"
   ]
  },
  {
   "cell_type": "code",
   "execution_count": 22,
   "id": "musical-reproduction",
   "metadata": {},
   "outputs": [
    {
     "data": {
      "text/plain": [
       "<pymongo.results.InsertOneResult at 0x1f96a73c800>"
      ]
     },
     "execution_count": 22,
     "metadata": {},
     "output_type": "execute_result"
    }
   ],
   "source": [
    "collection_user.insert_one({\"Name\" : \"Virat Kohli\", \n",
    "                           'Mobile Number' : 9988776655,\n",
    "                           'Password':12345,\n",
    "                           'email_id':'virat_kohli@gmail.com',\n",
    "                           'Location': 'Delhi'})"
   ]
  },
  {
   "cell_type": "code",
   "execution_count": 23,
   "id": "assigned-narrow",
   "metadata": {},
   "outputs": [
    {
     "data": {
      "text/plain": [
       "<pymongo.results.InsertOneResult at 0x1f96a6e8c40>"
      ]
     },
     "execution_count": 23,
     "metadata": {},
     "output_type": "execute_result"
    }
   ],
   "source": [
    "collection_user.insert_one({\"Name\" : \"Rohit Sharma\", \n",
    "                           'Mobile Number' : 8888776655,\n",
    "                           'Password':12345,\n",
    "                           'email_id':'rohit_sharma@gmail.com',\n",
    "                           'Location': 'Mumbai'})"
   ]
  },
  {
   "cell_type": "code",
   "execution_count": 24,
   "id": "bearing-complaint",
   "metadata": {},
   "outputs": [
    {
     "data": {
      "text/plain": [
       "<pymongo.results.InsertOneResult at 0x1f96a5fca40>"
      ]
     },
     "execution_count": 24,
     "metadata": {},
     "output_type": "execute_result"
    }
   ],
   "source": [
    "collection_user.insert_one({\"Name\" : \"Rohit Sharma\", \n",
    "                           'Mobile Number' : 8888776655,\n",
    "                           'Password':23456789,\n",
    "                           'email_id':'rohit.sharma@gmail.com',\n",
    "                           'Place': 'Mumbai'})"
   ]
  },
  {
   "cell_type": "markdown",
   "id": "going-traveler",
   "metadata": {},
   "source": [
    "### 3.2. Insert_many()"
   ]
  },
  {
   "cell_type": "raw",
   "id": "impressive-cream",
   "metadata": {},
   "source": [
    "Used to insert multiple records\n",
    "\n",
    "query >> List of dict\n",
    "collection.insert_many(query)"
   ]
  },
  {
   "cell_type": "code",
   "execution_count": 25,
   "id": "pointed-marine",
   "metadata": {},
   "outputs": [
    {
     "data": {
      "text/plain": [
       "<pymongo.results.InsertManyResult at 0x1f96a5fc700>"
      ]
     },
     "execution_count": 25,
     "metadata": {},
     "output_type": "execute_result"
    }
   ],
   "source": [
    "collection_user.insert_many([{\"Name\" : \"Rohit Sharma\", \n",
    "                           'Mobile Number' : 9888776655,\n",
    "                           'Password':\"ASDFGGHJK\",\n",
    "                           'email_id':'rohit_sharma@gmail.com',\n",
    "                           'Location': 'Mumbai'},\n",
    "                             \n",
    "                            {\"Name\" : \"Virat Kohli\", \n",
    "                           'Mobile Number' : 9588776655,\n",
    "                           'Password':9876543,\n",
    "                           'email_id':'virat_kohli@gmail.com',\n",
    "                           'Location': 'Delhi'},\n",
    "                            \n",
    "                            {\"Name\" : \"Shikhar Dhawan\", \n",
    "                           'Mobile Number' : 9988776655,\n",
    "                           'Password':12345,\n",
    "                           'email_id':'Shikhar_Dhawan@gmail.com',\n",
    "                           'Location': 'Panjab'}])"
   ]
  },
  {
   "cell_type": "code",
   "execution_count": 16,
   "id": "formal-protest",
   "metadata": {},
   "outputs": [
    {
     "data": {
      "text/html": [
       "<div>\n",
       "<style scoped>\n",
       "    .dataframe tbody tr th:only-of-type {\n",
       "        vertical-align: middle;\n",
       "    }\n",
       "\n",
       "    .dataframe tbody tr th {\n",
       "        vertical-align: top;\n",
       "    }\n",
       "\n",
       "    .dataframe thead th {\n",
       "        text-align: right;\n",
       "    }\n",
       "</style>\n",
       "<table border=\"1\" class=\"dataframe\">\n",
       "  <thead>\n",
       "    <tr style=\"text-align: right;\">\n",
       "      <th></th>\n",
       "      <th>Emp ID</th>\n",
       "      <th>First Name</th>\n",
       "      <th>Salary</th>\n",
       "      <th>City</th>\n",
       "    </tr>\n",
       "  </thead>\n",
       "  <tbody>\n",
       "    <tr>\n",
       "      <th>0</th>\n",
       "      <td>677509</td>\n",
       "      <td>Lois</td>\n",
       "      <td>168251</td>\n",
       "      <td>Denver</td>\n",
       "    </tr>\n",
       "    <tr>\n",
       "      <th>1</th>\n",
       "      <td>940761</td>\n",
       "      <td>Brenda</td>\n",
       "      <td>51063</td>\n",
       "      <td>Stonewall</td>\n",
       "    </tr>\n",
       "    <tr>\n",
       "      <th>2</th>\n",
       "      <td>428945</td>\n",
       "      <td>Joe</td>\n",
       "      <td>50155</td>\n",
       "      <td>Michigantown</td>\n",
       "    </tr>\n",
       "    <tr>\n",
       "      <th>3</th>\n",
       "      <td>408351</td>\n",
       "      <td>Diane</td>\n",
       "      <td>180294</td>\n",
       "      <td>Hydetown</td>\n",
       "    </tr>\n",
       "    <tr>\n",
       "      <th>4</th>\n",
       "      <td>193819</td>\n",
       "      <td>Benjamin</td>\n",
       "      <td>117642</td>\n",
       "      <td>Fremont</td>\n",
       "    </tr>\n",
       "    <tr>\n",
       "      <th>5</th>\n",
       "      <td>499687</td>\n",
       "      <td>Patrick</td>\n",
       "      <td>72305</td>\n",
       "      <td>Macksburg</td>\n",
       "    </tr>\n",
       "    <tr>\n",
       "      <th>6</th>\n",
       "      <td>539712</td>\n",
       "      <td>Nancy</td>\n",
       "      <td>98189</td>\n",
       "      <td>Atlanta</td>\n",
       "    </tr>\n",
       "    <tr>\n",
       "      <th>7</th>\n",
       "      <td>380086</td>\n",
       "      <td>Carol</td>\n",
       "      <td>60918</td>\n",
       "      <td>Blanchester</td>\n",
       "    </tr>\n",
       "    <tr>\n",
       "      <th>8</th>\n",
       "      <td>477616</td>\n",
       "      <td>Frances</td>\n",
       "      <td>121587</td>\n",
       "      <td>Delmita</td>\n",
       "    </tr>\n",
       "    <tr>\n",
       "      <th>9</th>\n",
       "      <td>162402</td>\n",
       "      <td>Diana</td>\n",
       "      <td>43010</td>\n",
       "      <td>Eureka Springs</td>\n",
       "    </tr>\n",
       "  </tbody>\n",
       "</table>\n",
       "</div>"
      ],
      "text/plain": [
       "   Emp ID First Name  Salary            City\n",
       "0  677509       Lois  168251          Denver\n",
       "1  940761     Brenda   51063       Stonewall\n",
       "2  428945        Joe   50155    Michigantown\n",
       "3  408351      Diane  180294        Hydetown\n",
       "4  193819   Benjamin  117642         Fremont\n",
       "5  499687    Patrick   72305       Macksburg\n",
       "6  539712      Nancy   98189         Atlanta\n",
       "7  380086      Carol   60918     Blanchester\n",
       "8  477616    Frances  121587         Delmita\n",
       "9  162402      Diana   43010  Eureka Springs"
      ]
     },
     "execution_count": 16,
     "metadata": {},
     "output_type": "execute_result"
    }
   ],
   "source": [
    "import pandas as pd\n",
    "\n",
    "emp_df = pd.read_csv('Emp_data.csv', usecols=['Emp ID','First Name','Salary','City']).head(10)\n",
    "emp_df"
   ]
  },
  {
   "cell_type": "code",
   "execution_count": 124,
   "id": "threatened-harassment",
   "metadata": {},
   "outputs": [],
   "source": [
    "emp_data = emp_df.to_dict(orient = 'records')"
   ]
  },
  {
   "cell_type": "code",
   "execution_count": 125,
   "id": "gentle-panama",
   "metadata": {},
   "outputs": [
    {
     "data": {
      "text/plain": [
       "<pymongo.results.InsertManyResult at 0x1f96acf0780>"
      ]
     },
     "execution_count": 125,
     "metadata": {},
     "output_type": "execute_result"
    }
   ],
   "source": [
    "collection_emp_data.insert_many(emp_data)"
   ]
  },
  {
   "cell_type": "markdown",
   "id": "sporting-glucose",
   "metadata": {},
   "source": [
    "### 2. Find"
   ]
  },
  {
   "cell_type": "markdown",
   "id": "suburban-receipt",
   "metadata": {},
   "source": [
    "#### 2.1 find_one()"
   ]
  },
  {
   "cell_type": "code",
   "execution_count": null,
   "id": "international-april",
   "metadata": {},
   "outputs": [],
   "source": [
    "It is used to select data from collection and it return only first occurenc\n",
    "\n",
    "collection.find_one({})"
   ]
  },
  {
   "cell_type": "code",
   "execution_count": 27,
   "id": "objective-hawaiian",
   "metadata": {},
   "outputs": [
    {
     "data": {
      "text/plain": [
       "{'_id': ObjectId('6392b28b4c7be5dac6cf3a6c'),\n",
       " 'Name': 'Virat Kohli',\n",
       " 'Mobile Number': 9988776655,\n",
       " 'Password': 12345,\n",
       " 'email_id': 'virat_kohli@gmail.com',\n",
       " 'Location': 'Delhi'}"
      ]
     },
     "execution_count": 27,
     "metadata": {},
     "output_type": "execute_result"
    }
   ],
   "source": [
    "collection_user.find_one({\"Name\":'Virat Kohli'})"
   ]
  },
  {
   "cell_type": "code",
   "execution_count": 28,
   "id": "medical-complexity",
   "metadata": {},
   "outputs": [
    {
     "data": {
      "text/plain": [
       "{'_id': ObjectId('6392b28d4c7be5dac6cf3a6d'),\n",
       " 'Name': 'Rohit Sharma',\n",
       " 'Mobile Number': 8888776655,\n",
       " 'Password': 12345,\n",
       " 'email_id': 'rohit_sharma@gmail.com',\n",
       " 'Location': 'Mumbai'}"
      ]
     },
     "execution_count": 28,
     "metadata": {},
     "output_type": "execute_result"
    }
   ],
   "source": [
    "collection_user.find_one({\"Name\":'Rohit Sharma'})"
   ]
  },
  {
   "cell_type": "code",
   "execution_count": 30,
   "id": "confirmed-alpha",
   "metadata": {},
   "outputs": [
    {
     "data": {
      "text/plain": [
       "{'_id': ObjectId('6392b28d4c7be5dac6cf3a6d'),\n",
       " 'Name': 'Rohit Sharma',\n",
       " 'Mobile Number': 9801234567,\n",
       " 'Password': 12345,\n",
       " 'email_id': 'rohit_sharma@gmail.com',\n",
       " 'Location': 'Mumbai'}"
      ]
     },
     "execution_count": 30,
     "metadata": {},
     "output_type": "execute_result"
    }
   ],
   "source": [
    "collection_user.find_one({\"Name\":'Rohit Sharma'})"
   ]
  },
  {
   "cell_type": "code",
   "execution_count": 32,
   "id": "behavioral-klein",
   "metadata": {},
   "outputs": [
    {
     "data": {
      "text/plain": [
       "{'_id': ObjectId('6392b28d4c7be5dac6cf3a6d'),\n",
       " 'Name': 'Rohit Sharma',\n",
       " 'Mobile Number': 9801234567,\n",
       " 'Password': 12345,\n",
       " 'email_id': 'rohit_sharma@gmail.com',\n",
       " 'Location': 'Mumbai'}"
      ]
     },
     "execution_count": 32,
     "metadata": {},
     "output_type": "execute_result"
    }
   ],
   "source": [
    "collection_user.find_one({\"email_id\":'rohit_sharma@gmail.com'})"
   ]
  },
  {
   "cell_type": "code",
   "execution_count": 33,
   "id": "martial-illness",
   "metadata": {},
   "outputs": [
    {
     "data": {
      "text/plain": [
       "{'_id': ObjectId('6392b29c4c7be5dac6cf3a6e'),\n",
       " 'Name': 'Rohit Sharma',\n",
       " 'Mobile Number': 8888776655,\n",
       " 'Password': 23456789,\n",
       " 'email_id': 'rohit.sharma@gmail.com',\n",
       " 'Place': 'Mumbai'}"
      ]
     },
     "execution_count": 33,
     "metadata": {},
     "output_type": "execute_result"
    }
   ],
   "source": [
    "collection_user.find_one({\"Name\":'Rohit Sharma',\n",
    "                         'Mobile Number':8888776655})"
   ]
  },
  {
   "cell_type": "code",
   "execution_count": 37,
   "id": "expanded-officer",
   "metadata": {},
   "outputs": [
    {
     "data": {
      "text/plain": [
       "{'_id': ObjectId('6392b1d24c7be5dac6cf3a67'),\n",
       " 'Emp ID': 499687,\n",
       " 'First Name': 'Patrick',\n",
       " 'Salary': 72305,\n",
       " 'City': 'Macksburg'}"
      ]
     },
     "execution_count": 37,
     "metadata": {},
     "output_type": "execute_result"
    }
   ],
   "source": [
    "query = {\"Emp ID\":499687}\n",
    "collection_emp_data.find_one(query)"
   ]
  },
  {
   "cell_type": "markdown",
   "id": "standard-heaven",
   "metadata": {},
   "source": [
    "#### 2.2 Find"
   ]
  },
  {
   "cell_type": "code",
   "execution_count": null,
   "id": "hawaiian-fetish",
   "metadata": {},
   "outputs": [],
   "source": [
    "collection.find()"
   ]
  },
  {
   "cell_type": "code",
   "execution_count": 42,
   "id": "extreme-offset",
   "metadata": {},
   "outputs": [
    {
     "data": {
      "text/plain": [
       "[{'_id': ObjectId('6392b28b4c7be5dac6cf3a6c'),\n",
       "  'Name': 'Virat Kohli',\n",
       "  'Mobile Number': 9988776655,\n",
       "  'Password': 12345,\n",
       "  'email_id': 'virat_kohli@gmail.com',\n",
       "  'Location': 'Delhi'},\n",
       " {'_id': ObjectId('6392b28d4c7be5dac6cf3a6d'),\n",
       "  'Name': 'Rohit Sharma',\n",
       "  'Mobile Number': 9801234567,\n",
       "  'Password': 12345,\n",
       "  'email_id': 'rohit_sharma@gmail.com',\n",
       "  'Location': 'Mumbai'},\n",
       " {'_id': ObjectId('6392b29c4c7be5dac6cf3a6e'),\n",
       "  'Name': 'Rohit Sharma',\n",
       "  'Mobile Number': 8888776655,\n",
       "  'Password': 23456789,\n",
       "  'email_id': 'rohit.sharma@gmail.com',\n",
       "  'Place': 'Mumbai'},\n",
       " {'_id': ObjectId('6392b2bb4c7be5dac6cf3a6f'),\n",
       "  'Name': 'Rohit Sharma',\n",
       "  'Mobile Number': 9888776655,\n",
       "  'Password': 'ASDFGGHJK',\n",
       "  'email_id': 'rohit_sharma@gmail.com',\n",
       "  'Location': 'Mumbai'},\n",
       " {'_id': ObjectId('6392b2bb4c7be5dac6cf3a70'),\n",
       "  'Name': 'Virat Kohli',\n",
       "  'Mobile Number': 9588771234,\n",
       "  'Password': 9876543,\n",
       "  'email_id': 'virat_kohli@gmail.com',\n",
       "  'Location': 'Delhi'},\n",
       " {'_id': ObjectId('6392b2bb4c7be5dac6cf3a71'),\n",
       "  'Name': 'Shikhar Dhawan',\n",
       "  'Mobile Number': 9234566655,\n",
       "  'Password': 12345,\n",
       "  'email_id': 'Shikhar_Dhawan@gmail.com',\n",
       "  'Location': 'Panjab'}]"
      ]
     },
     "execution_count": 42,
     "metadata": {},
     "output_type": "execute_result"
    }
   ],
   "source": [
    "data = collection_user.find()\n",
    "list(data)"
   ]
  },
  {
   "cell_type": "code",
   "execution_count": 44,
   "id": "multiple-prison",
   "metadata": {},
   "outputs": [
    {
     "data": {
      "text/plain": [
       "[{'_id': ObjectId('6392b28d4c7be5dac6cf3a6d'),\n",
       "  'Name': 'Rohit Sharma',\n",
       "  'Mobile Number': 9801234567,\n",
       "  'Password': 12345,\n",
       "  'email_id': 'rohit_sharma@gmail.com',\n",
       "  'Location': 'Mumbai'},\n",
       " {'_id': ObjectId('6392b2bb4c7be5dac6cf3a6f'),\n",
       "  'Name': 'Rohit Sharma',\n",
       "  'Mobile Number': 9888776655,\n",
       "  'Password': 'ASDFGGHJK',\n",
       "  'email_id': 'rohit_sharma@gmail.com',\n",
       "  'Location': 'Mumbai'}]"
      ]
     },
     "execution_count": 44,
     "metadata": {},
     "output_type": "execute_result"
    }
   ],
   "source": [
    "data = collection_user.find({\"Name\": 'Rohit Sharma'})\n",
    "list(data)"
   ]
  },
  {
   "cell_type": "code",
   "execution_count": 46,
   "id": "military-shark",
   "metadata": {},
   "outputs": [
    {
     "data": {
      "text/plain": [
       "[{'_id': ObjectId('6392b28d4c7be5dac6cf3a6d'),\n",
       "  'Name': 'Rohit Sharma',\n",
       "  'Mobile Number': 9801234567,\n",
       "  'Password': 12345,\n",
       "  'email_id': 'rohit_sharma@gmail.com',\n",
       "  'Location': 'Mumbai'},\n",
       " {'_id': ObjectId('6392b2bb4c7be5dac6cf3a6f'),\n",
       "  'Name': 'Rohit Sharma',\n",
       "  'Mobile Number': 9888776655,\n",
       "  'Password': 'ASDFGGHJK',\n",
       "  'email_id': 'rohit_sharma@gmail.com',\n",
       "  'Location': 'Mumbai'}]"
      ]
     },
     "execution_count": 46,
     "metadata": {},
     "output_type": "execute_result"
    }
   ],
   "source": [
    "data = collection_user.find({\"Location\": 'Mumbai'})\n",
    "list(data)"
   ]
  },
  {
   "cell_type": "code",
   "execution_count": 47,
   "id": "green-saturday",
   "metadata": {},
   "outputs": [
    {
     "data": {
      "text/plain": [
       "<pymongo.results.InsertOneResult at 0x1f96999bf00>"
      ]
     },
     "execution_count": 47,
     "metadata": {},
     "output_type": "execute_result"
    }
   ],
   "source": [
    "collection_user.insert_one({\"Name\" : \"Sachin\", \n",
    "                           'Mobile Number' : 8765432123,\n",
    "                           'Password':\"SachinT\",\n",
    "                           'email_id':'sachin@gmail.com',\n",
    "                           'Location': 'Mumbai'})"
   ]
  },
  {
   "cell_type": "code",
   "execution_count": 49,
   "id": "underlying-objective",
   "metadata": {},
   "outputs": [
    {
     "data": {
      "text/plain": [
       "[{'_id': ObjectId('6392b28d4c7be5dac6cf3a6d'),\n",
       "  'Name': 'Rohit Sharma',\n",
       "  'Mobile Number': 9801234567,\n",
       "  'Password': 12345,\n",
       "  'email_id': 'rohit_sharma@gmail.com',\n",
       "  'Location': 'Mumbai'},\n",
       " {'_id': ObjectId('6392b2bb4c7be5dac6cf3a6f'),\n",
       "  'Name': 'Rohit Sharma',\n",
       "  'Mobile Number': 9888776655,\n",
       "  'Password': 'ASDFGGHJK',\n",
       "  'email_id': 'rohit_sharma@gmail.com',\n",
       "  'Location': 'Mumbai'},\n",
       " {'_id': ObjectId('6392b5304c7be5dac6cf3a72'),\n",
       "  'Name': 'Sachin',\n",
       "  'Mobile Number': 8765432123,\n",
       "  'Password': 'SachinT',\n",
       "  'email_id': 'sachin@gmail.com',\n",
       "  'Location': 'Mumbai'}]"
      ]
     },
     "execution_count": 49,
     "metadata": {},
     "output_type": "execute_result"
    }
   ],
   "source": [
    "data = collection_user.find({\"Location\": 'Mumbai'})\n",
    "list(data)"
   ]
  },
  {
   "cell_type": "code",
   "execution_count": null,
   "id": "spectacular-section",
   "metadata": {},
   "outputs": [],
   "source": [
    "data = collection_user.find({\"Location\": 'Mumbai'})\n",
    "list(data)"
   ]
  },
  {
   "cell_type": "code",
   "execution_count": 51,
   "id": "european-november",
   "metadata": {},
   "outputs": [
    {
     "data": {
      "text/html": [
       "<div>\n",
       "<style scoped>\n",
       "    .dataframe tbody tr th:only-of-type {\n",
       "        vertical-align: middle;\n",
       "    }\n",
       "\n",
       "    .dataframe tbody tr th {\n",
       "        vertical-align: top;\n",
       "    }\n",
       "\n",
       "    .dataframe thead th {\n",
       "        text-align: right;\n",
       "    }\n",
       "</style>\n",
       "<table border=\"1\" class=\"dataframe\">\n",
       "  <thead>\n",
       "    <tr style=\"text-align: right;\">\n",
       "      <th></th>\n",
       "      <th>Emp ID</th>\n",
       "      <th>First Name</th>\n",
       "      <th>Salary</th>\n",
       "      <th>City</th>\n",
       "    </tr>\n",
       "  </thead>\n",
       "  <tbody>\n",
       "    <tr>\n",
       "      <th>0</th>\n",
       "      <td>677509</td>\n",
       "      <td>Lois</td>\n",
       "      <td>168251</td>\n",
       "      <td>Denver</td>\n",
       "    </tr>\n",
       "    <tr>\n",
       "      <th>1</th>\n",
       "      <td>940761</td>\n",
       "      <td>Brenda</td>\n",
       "      <td>51063</td>\n",
       "      <td>Stonewall</td>\n",
       "    </tr>\n",
       "    <tr>\n",
       "      <th>2</th>\n",
       "      <td>428945</td>\n",
       "      <td>Joe</td>\n",
       "      <td>50155</td>\n",
       "      <td>Michigantown</td>\n",
       "    </tr>\n",
       "    <tr>\n",
       "      <th>3</th>\n",
       "      <td>408351</td>\n",
       "      <td>Diane</td>\n",
       "      <td>180294</td>\n",
       "      <td>Hydetown</td>\n",
       "    </tr>\n",
       "    <tr>\n",
       "      <th>4</th>\n",
       "      <td>193819</td>\n",
       "      <td>Benjamin</td>\n",
       "      <td>117642</td>\n",
       "      <td>Fremont</td>\n",
       "    </tr>\n",
       "    <tr>\n",
       "      <th>5</th>\n",
       "      <td>499687</td>\n",
       "      <td>Patrick</td>\n",
       "      <td>72305</td>\n",
       "      <td>Macksburg</td>\n",
       "    </tr>\n",
       "    <tr>\n",
       "      <th>6</th>\n",
       "      <td>539712</td>\n",
       "      <td>Nancy</td>\n",
       "      <td>98189</td>\n",
       "      <td>Atlanta</td>\n",
       "    </tr>\n",
       "    <tr>\n",
       "      <th>7</th>\n",
       "      <td>380086</td>\n",
       "      <td>Carol</td>\n",
       "      <td>60918</td>\n",
       "      <td>Blanchester</td>\n",
       "    </tr>\n",
       "    <tr>\n",
       "      <th>8</th>\n",
       "      <td>477616</td>\n",
       "      <td>Frances</td>\n",
       "      <td>121587</td>\n",
       "      <td>Delmita</td>\n",
       "    </tr>\n",
       "    <tr>\n",
       "      <th>9</th>\n",
       "      <td>162402</td>\n",
       "      <td>Diana</td>\n",
       "      <td>43010</td>\n",
       "      <td>Eureka Springs</td>\n",
       "    </tr>\n",
       "  </tbody>\n",
       "</table>\n",
       "</div>"
      ],
      "text/plain": [
       "   Emp ID First Name  Salary            City\n",
       "0  677509       Lois  168251          Denver\n",
       "1  940761     Brenda   51063       Stonewall\n",
       "2  428945        Joe   50155    Michigantown\n",
       "3  408351      Diane  180294        Hydetown\n",
       "4  193819   Benjamin  117642         Fremont\n",
       "5  499687    Patrick   72305       Macksburg\n",
       "6  539712      Nancy   98189         Atlanta\n",
       "7  380086      Carol   60918     Blanchester\n",
       "8  477616    Frances  121587         Delmita\n",
       "9  162402      Diana   43010  Eureka Springs"
      ]
     },
     "execution_count": 51,
     "metadata": {},
     "output_type": "execute_result"
    }
   ],
   "source": [
    "emp_df"
   ]
  },
  {
   "cell_type": "code",
   "execution_count": 53,
   "id": "transparent-blackberry",
   "metadata": {},
   "outputs": [
    {
     "data": {
      "text/plain": [
       "[{'_id': ObjectId('6392b5304c7be5dac6cf3a72'),\n",
       "  'Name': 'Sachin',\n",
       "  'Mobile Number': 8765432123,\n",
       "  'Password': 'SachinT',\n",
       "  'email_id': 'sachin@gmail.com',\n",
       "  'Location': 'Mumbai'}]"
      ]
     },
     "execution_count": 53,
     "metadata": {},
     "output_type": "execute_result"
    }
   ],
   "source": [
    "data = collection_user.find({\"Location\": 'Mumbai', 'Name':'Sachin'})\n",
    "list(data)"
   ]
  },
  {
   "cell_type": "code",
   "execution_count": 55,
   "id": "satisfied-fancy",
   "metadata": {},
   "outputs": [
    {
     "data": {
      "text/plain": [
       "[{'_id': ObjectId('6392b28b4c7be5dac6cf3a6c'),\n",
       "  'Name': 'Virat Kohli',\n",
       "  'Mobile Number': 9988776655,\n",
       "  'Password': 12345,\n",
       "  'email_id': 'virat_kohli@gmail.com',\n",
       "  'Location': 'Delhi'},\n",
       " {'_id': ObjectId('6392b28d4c7be5dac6cf3a6d'),\n",
       "  'Name': 'Rohit Sharma',\n",
       "  'Mobile Number': 9801234567,\n",
       "  'Password': 12345,\n",
       "  'email_id': 'rohit_sharma@gmail.com',\n",
       "  'Location': 'Mumbai'},\n",
       " {'_id': ObjectId('6392b2bb4c7be5dac6cf3a6f'),\n",
       "  'Name': 'Rohit Sharma',\n",
       "  'Mobile Number': 9888776655,\n",
       "  'Password': 'ASDFGGHJK',\n",
       "  'email_id': 'rohit_sharma@gmail.com',\n",
       "  'Location': 'Mumbai'},\n",
       " {'_id': ObjectId('6392b2bb4c7be5dac6cf3a70'),\n",
       "  'Name': 'Virat Kohli',\n",
       "  'Mobile Number': 9588771234,\n",
       "  'Password': 9876543,\n",
       "  'email_id': 'virat_kohli@gmail.com',\n",
       "  'Location': 'Delhi'},\n",
       " {'_id': ObjectId('6392b2bb4c7be5dac6cf3a71'),\n",
       "  'Name': 'Shikhar Dhawan',\n",
       "  'Mobile Number': 9234566655,\n",
       "  'Password': 12345,\n",
       "  'email_id': 'Shikhar_Dhawan@gmail.com',\n",
       "  'Location': 'Panjab'},\n",
       " {'_id': ObjectId('6392b5304c7be5dac6cf3a72'),\n",
       "  'Name': 'Sachin',\n",
       "  'Mobile Number': 8765432123,\n",
       "  'Password': 'SachinT',\n",
       "  'email_id': 'sachin@gmail.com',\n",
       "  'Location': 'Mumbai'}]"
      ]
     },
     "execution_count": 55,
     "metadata": {},
     "output_type": "execute_result"
    }
   ],
   "source": [
    "data = collection_user.find()\n",
    "list(data)"
   ]
  },
  {
   "cell_type": "code",
   "execution_count": 60,
   "id": "legal-liberty",
   "metadata": {},
   "outputs": [
    {
     "data": {
      "text/plain": [
       "[{'Name': 'Virat Kohli', 'Mobile Number': 9988776655, 'Location': 'Delhi'},\n",
       " {'Name': 'Rohit Sharma', 'Mobile Number': 9801234567, 'Location': 'Mumbai'},\n",
       " {'Name': 'Rohit Sharma', 'Mobile Number': 9888776655, 'Location': 'Mumbai'},\n",
       " {'Name': 'Virat Kohli', 'Mobile Number': 9588771234, 'Location': 'Delhi'},\n",
       " {'Name': 'Shikhar Dhawan', 'Mobile Number': 9234566655, 'Location': 'Panjab'},\n",
       " {'Name': 'Sachin', 'Mobile Number': 8765432123, 'Location': 'Mumbai'}]"
      ]
     },
     "execution_count": 60,
     "metadata": {},
     "output_type": "execute_result"
    }
   ],
   "source": [
    "\n",
    "data = collection_user.find({}, {'_id' : 0,'email_id':0,'Password':0})\n",
    "list(data)"
   ]
  },
  {
   "cell_type": "code",
   "execution_count": 62,
   "id": "civil-terrain",
   "metadata": {},
   "outputs": [
    {
     "data": {
      "text/plain": [
       "[{'Name': 'Virat Kohli', 'Location': 'Delhi'},\n",
       " {'Name': 'Rohit Sharma', 'Location': 'Mumbai'},\n",
       " {'Name': 'Rohit Sharma', 'Location': 'Mumbai'},\n",
       " {'Name': 'Virat Kohli', 'Location': 'Delhi'},\n",
       " {'Name': 'Shikhar Dhawan', 'Location': 'Panjab'},\n",
       " {'Name': 'Sachin', 'Location': 'Mumbai'}]"
      ]
     },
     "execution_count": 62,
     "metadata": {},
     "output_type": "execute_result"
    }
   ],
   "source": [
    "\n",
    "data = collection_user.find({}, {'_id' : 0,'Name':1,'Location':1})\n",
    "list(data)"
   ]
  },
  {
   "cell_type": "raw",
   "id": "devoted-fountain",
   "metadata": {},
   "source": [
    "# Error\n",
    "data = collection_user.find({}, {'_id' : 0,'Name':1,'Location':1,'email_id':0})\n",
    "list(data)"
   ]
  },
  {
   "cell_type": "code",
   "execution_count": 66,
   "id": "accurate-filename",
   "metadata": {},
   "outputs": [
    {
     "data": {
      "text/plain": [
       "Index(['Emp ID', 'First Name', 'Salary', 'City'], dtype='object')"
      ]
     },
     "execution_count": 66,
     "metadata": {},
     "output_type": "execute_result"
    }
   ],
   "source": [
    "emp_df.columns"
   ]
  },
  {
   "cell_type": "code",
   "execution_count": 68,
   "id": "coated-landing",
   "metadata": {},
   "outputs": [
    {
     "data": {
      "text/plain": [
       "[{'First Name': 'Lois', 'Salary': 168251},\n",
       " {'First Name': 'Brenda', 'Salary': 51063},\n",
       " {'First Name': 'Joe', 'Salary': 50155},\n",
       " {'First Name': 'Diane', 'Salary': 180294},\n",
       " {'First Name': 'Benjamin', 'Salary': 117642},\n",
       " {'First Name': 'Patrick', 'Salary': 72305},\n",
       " {'First Name': 'Nancy', 'Salary': 98189},\n",
       " {'First Name': 'Carol', 'Salary': 60918},\n",
       " {'First Name': 'Frances', 'Salary': 121587},\n",
       " {'First Name': 'Diana', 'Salary': 43010}]"
      ]
     },
     "execution_count": 68,
     "metadata": {},
     "output_type": "execute_result"
    }
   ],
   "source": [
    "data = collection_emp_data.find({}, {'_id' : 0,'First Name':1,'Salary':1})\n",
    "list(data)"
   ]
  },
  {
   "cell_type": "code",
   "execution_count": 71,
   "id": "pretty-prefix",
   "metadata": {},
   "outputs": [
    {
     "data": {
      "text/plain": [
       "[{'Emp ID': 677509, 'First Name': 'Lois', 'Salary': 168251},\n",
       " {'Emp ID': 940761, 'First Name': 'Brenda', 'Salary': 51063},\n",
       " {'Emp ID': 428945, 'First Name': 'Joe', 'Salary': 50155},\n",
       " {'Emp ID': 408351, 'First Name': 'Diane', 'Salary': 180294},\n",
       " {'Emp ID': 193819, 'First Name': 'Benjamin', 'Salary': 117642},\n",
       " {'Emp ID': 499687, 'First Name': 'Patrick', 'Salary': 72305},\n",
       " {'Emp ID': 539712, 'First Name': 'Nancy', 'Salary': 98189},\n",
       " {'Emp ID': 380086, 'First Name': 'Carol', 'Salary': 60918},\n",
       " {'Emp ID': 477616, 'First Name': 'Frances', 'Salary': 121587},\n",
       " {'Emp ID': 162402, 'First Name': 'Diana', 'Salary': 43010}]"
      ]
     },
     "execution_count": 71,
     "metadata": {},
     "output_type": "execute_result"
    }
   ],
   "source": [
    "data = collection_emp_data.find({}, {'_id' : 0,'City':0})\n",
    "list(data)"
   ]
  },
  {
   "cell_type": "code",
   "execution_count": 74,
   "id": "median-modem",
   "metadata": {},
   "outputs": [
    {
     "data": {
      "text/plain": [
       "[{'First Name': 'Lois', 'Salary': 168251, 'City': 'Denver'},\n",
       " {'First Name': 'Brenda', 'Salary': 51063, 'City': 'Stonewall'},\n",
       " {'First Name': 'Joe', 'Salary': 50155, 'City': 'Michigantown'},\n",
       " {'First Name': 'Diane', 'Salary': 180294, 'City': 'Hydetown'},\n",
       " {'First Name': 'Benjamin', 'Salary': 117642, 'City': 'Fremont'},\n",
       " {'First Name': 'Patrick', 'Salary': 72305, 'City': 'Macksburg'},\n",
       " {'First Name': 'Nancy', 'Salary': 98189, 'City': 'Atlanta'},\n",
       " {'First Name': 'Carol', 'Salary': 60918, 'City': 'Blanchester'},\n",
       " {'First Name': 'Frances', 'Salary': 121587, 'City': 'Delmita'},\n",
       " {'First Name': 'Diana', 'Salary': 43010, 'City': 'Eureka Springs'}]"
      ]
     },
     "execution_count": 74,
     "metadata": {},
     "output_type": "execute_result"
    }
   ],
   "source": [
    "data = collection_emp_data.find({}, {'_id' : 0,'Emp ID':0})\n",
    "list(data)"
   ]
  },
  {
   "cell_type": "code",
   "execution_count": 76,
   "id": "competent-walker",
   "metadata": {},
   "outputs": [
    {
     "data": {
      "text/plain": [
       "[{'First Name': 'Benjamin', 'Salary': 117642, 'City': 'Fremont'},\n",
       " {'First Name': 'Brenda', 'Salary': 51063, 'City': 'Stonewall'},\n",
       " {'First Name': 'Carol', 'Salary': 60918, 'City': 'Blanchester'},\n",
       " {'First Name': 'Diana', 'Salary': 43010, 'City': 'Eureka Springs'},\n",
       " {'First Name': 'Diane', 'Salary': 180294, 'City': 'Hydetown'},\n",
       " {'First Name': 'Frances', 'Salary': 121587, 'City': 'Delmita'},\n",
       " {'First Name': 'Joe', 'Salary': 50155, 'City': 'Michigantown'},\n",
       " {'First Name': 'Lois', 'Salary': 168251, 'City': 'Denver'},\n",
       " {'First Name': 'Nancy', 'Salary': 98189, 'City': 'Atlanta'},\n",
       " {'First Name': 'Patrick', 'Salary': 72305, 'City': 'Macksburg'}]"
      ]
     },
     "execution_count": 76,
     "metadata": {},
     "output_type": "execute_result"
    }
   ],
   "source": [
    "data = collection_emp_data.find({}, {'_id' : 0,'Emp ID':0}).sort(\"First Name\")\n",
    "list(data)"
   ]
  },
  {
   "cell_type": "code",
   "execution_count": 78,
   "id": "concrete-joining",
   "metadata": {},
   "outputs": [
    {
     "data": {
      "text/plain": [
       "[{'First Name': 'Diana', 'Salary': 43010, 'City': 'Eureka Springs'},\n",
       " {'First Name': 'Joe', 'Salary': 50155, 'City': 'Michigantown'},\n",
       " {'First Name': 'Brenda', 'Salary': 51063, 'City': 'Stonewall'},\n",
       " {'First Name': 'Carol', 'Salary': 60918, 'City': 'Blanchester'},\n",
       " {'First Name': 'Patrick', 'Salary': 72305, 'City': 'Macksburg'},\n",
       " {'First Name': 'Nancy', 'Salary': 98189, 'City': 'Atlanta'},\n",
       " {'First Name': 'Benjamin', 'Salary': 117642, 'City': 'Fremont'},\n",
       " {'First Name': 'Frances', 'Salary': 121587, 'City': 'Delmita'},\n",
       " {'First Name': 'Lois', 'Salary': 168251, 'City': 'Denver'},\n",
       " {'First Name': 'Diane', 'Salary': 180294, 'City': 'Hydetown'}]"
      ]
     },
     "execution_count": 78,
     "metadata": {},
     "output_type": "execute_result"
    }
   ],
   "source": [
    "data = collection_emp_data.find({}, {'_id' : 0,'Emp ID':0}).sort(\"Salary\")\n",
    "list(data)"
   ]
  },
  {
   "cell_type": "code",
   "execution_count": 80,
   "id": "quiet-blank",
   "metadata": {},
   "outputs": [
    {
     "data": {
      "text/plain": [
       "[{'First Name': 'Diane', 'Salary': 180294, 'City': 'Hydetown'},\n",
       " {'First Name': 'Lois', 'Salary': 168251, 'City': 'Denver'},\n",
       " {'First Name': 'Frances', 'Salary': 121587, 'City': 'Delmita'},\n",
       " {'First Name': 'Benjamin', 'Salary': 117642, 'City': 'Fremont'},\n",
       " {'First Name': 'Nancy', 'Salary': 98189, 'City': 'Atlanta'},\n",
       " {'First Name': 'Patrick', 'Salary': 72305, 'City': 'Macksburg'},\n",
       " {'First Name': 'Carol', 'Salary': 60918, 'City': 'Blanchester'},\n",
       " {'First Name': 'Brenda', 'Salary': 51063, 'City': 'Stonewall'},\n",
       " {'First Name': 'Joe', 'Salary': 50155, 'City': 'Michigantown'},\n",
       " {'First Name': 'Diana', 'Salary': 43010, 'City': 'Eureka Springs'}]"
      ]
     },
     "execution_count": 80,
     "metadata": {},
     "output_type": "execute_result"
    }
   ],
   "source": [
    "data = collection_emp_data.find({}, {'_id' : 0,'Emp ID':0}).sort(\"Salary\",-1)\n",
    "list(data)"
   ]
  },
  {
   "cell_type": "code",
   "execution_count": 82,
   "id": "adaptive-narrative",
   "metadata": {},
   "outputs": [
    {
     "data": {
      "text/plain": [
       "[{'First Name': 'Benjamin', 'Salary': 117642, 'City': 'Fremont'},\n",
       " {'First Name': 'Brenda', 'Salary': 51063, 'City': 'Stonewall'},\n",
       " {'First Name': 'Carol', 'Salary': 60918, 'City': 'Blanchester'},\n",
       " {'First Name': 'Diana', 'Salary': 43010, 'City': 'Eureka Springs'},\n",
       " {'First Name': 'Diane', 'Salary': 180294, 'City': 'Hydetown'},\n",
       " {'First Name': 'Frances', 'Salary': 121587, 'City': 'Delmita'},\n",
       " {'First Name': 'Joe', 'Salary': 50155, 'City': 'Michigantown'},\n",
       " {'First Name': 'Lois', 'Salary': 168251, 'City': 'Denver'},\n",
       " {'First Name': 'Nancy', 'Salary': 98189, 'City': 'Atlanta'},\n",
       " {'First Name': 'Patrick', 'Salary': 72305, 'City': 'Macksburg'}]"
      ]
     },
     "execution_count": 82,
     "metadata": {},
     "output_type": "execute_result"
    }
   ],
   "source": [
    "data = collection_emp_data.find({}, {'_id' : 0,'Emp ID':0}).sort(\"First Name\")\n",
    "list(data)"
   ]
  },
  {
   "cell_type": "code",
   "execution_count": 84,
   "id": "resident-celtic",
   "metadata": {},
   "outputs": [
    {
     "data": {
      "text/plain": [
       "[{'First Name': 'Brenda', 'Salary': 51063, 'City': 'Stonewall'},\n",
       " {'First Name': 'Benjamin', 'Salary': 117642, 'City': 'Fremont'}]"
      ]
     },
     "execution_count": 84,
     "metadata": {},
     "output_type": "execute_result"
    }
   ],
   "source": [
    "query = {\"First Name\":{\"$regex\" : \"^B\"}}\n",
    "data = collection_emp_data.find(query, {'_id' : 0,'Emp ID':0})\n",
    "list(data)"
   ]
  },
  {
   "cell_type": "code",
   "execution_count": 86,
   "id": "social-sally",
   "metadata": {},
   "outputs": [
    {
     "data": {
      "text/plain": [
       "[{'First Name': 'Diane', 'Salary': 180294, 'City': 'Hydetown'},\n",
       " {'First Name': 'Diana', 'Salary': 43010, 'City': 'Eureka Springs'}]"
      ]
     },
     "execution_count": 86,
     "metadata": {},
     "output_type": "execute_result"
    }
   ],
   "source": [
    "query = {\"First Name\":{\"$regex\" : \"^Dia\"}}\n",
    "data = collection_emp_data.find(query, {'_id' : 0,'Emp ID':0})\n",
    "list(data)"
   ]
  },
  {
   "cell_type": "code",
   "execution_count": 87,
   "id": "narrative-boundary",
   "metadata": {},
   "outputs": [
    {
     "data": {
      "text/plain": [
       "[{'First Name': 'Joe', 'Salary': 50155, 'City': 'Michigantown'}]"
      ]
     },
     "execution_count": 87,
     "metadata": {},
     "output_type": "execute_result"
    }
   ],
   "source": [
    "query = {\"First Name\":{\"$regex\" : \"^J\"}}\n",
    "data = collection_emp_data.find(query, {'_id' : 0,'Emp ID':0})\n",
    "list(data)"
   ]
  },
  {
   "cell_type": "code",
   "execution_count": 93,
   "id": "bound-termination",
   "metadata": {},
   "outputs": [
    {
     "data": {
      "text/plain": [
       "[{'Name': 'Shikhar Dhawan',\n",
       "  'Mobile Number': 9234566655,\n",
       "  'Password': 12345,\n",
       "  'email_id': 'Shikhar_Dhawan@gmail.com',\n",
       "  'Location': 'Panjab'},\n",
       " {'Name': 'Sachin',\n",
       "  'Mobile Number': 8765432123,\n",
       "  'Password': 'SachinT',\n",
       "  'email_id': 'sachin@gmail.com',\n",
       "  'Location': 'Mumbai'}]"
      ]
     },
     "execution_count": 93,
     "metadata": {},
     "output_type": "execute_result"
    }
   ],
   "source": [
    "query = {\"Name\":{\"$regex\" : \"^S\"}}\n",
    "data = collection_user.find(query, {'_id' : 0})\n",
    "list(data)"
   ]
  },
  {
   "cell_type": "code",
   "execution_count": 95,
   "id": "understood-forth",
   "metadata": {},
   "outputs": [
    {
     "data": {
      "text/plain": [
       "[{'Name': 'Sachin',\n",
       "  'Mobile Number': 8765432123,\n",
       "  'Password': 'SachinT',\n",
       "  'email_id': 'sachin@gmail.com',\n",
       "  'Location': 'Mumbai'}]"
      ]
     },
     "execution_count": 95,
     "metadata": {},
     "output_type": "execute_result"
    }
   ],
   "source": [
    "query = {\"Name\":{\"$regex\" : \"^Sachin\"}}\n",
    "data = collection_user.find(query, {'_id' : 0})\n",
    "list(data)"
   ]
  },
  {
   "cell_type": "code",
   "execution_count": 97,
   "id": "dense-production",
   "metadata": {},
   "outputs": [
    {
     "data": {
      "text/plain": [
       "[{'Name': 'Sachin',\n",
       "  'Mobile Number': 8765432123,\n",
       "  'Password': 'SachinT',\n",
       "  'email_id': 'sachin@gmail.com',\n",
       "  'Location': 'Mumbai'}]"
      ]
     },
     "execution_count": 97,
     "metadata": {},
     "output_type": "execute_result"
    }
   ],
   "source": [
    "query = {\"Name\":{\"$regex\" : \"Sachin$\"}}\n",
    "data = collection_user.find(query, {'_id' : 0})\n",
    "list(data)"
   ]
  },
  {
   "cell_type": "code",
   "execution_count": 99,
   "id": "patient-element",
   "metadata": {},
   "outputs": [
    {
     "data": {
      "text/plain": [
       "[{'Name': 'Virat Kohli',\n",
       "  'Mobile Number': 9988776655,\n",
       "  'Password': 12345,\n",
       "  'email_id': 'virat_kohli@gmail.com',\n",
       "  'Location': 'Delhi'},\n",
       " {'Name': 'Rohit Sharma',\n",
       "  'Mobile Number': 9801234567,\n",
       "  'Password': 12345,\n",
       "  'email_id': 'rohit_sharma@gmail.com',\n",
       "  'Location': 'Mumbai'},\n",
       " {'Name': 'Rohit Sharma',\n",
       "  'Mobile Number': 9888776655,\n",
       "  'Password': 'ASDFGGHJK',\n",
       "  'email_id': 'rohit_sharma@gmail.com',\n",
       "  'Location': 'Mumbai'},\n",
       " {'Name': 'Virat Kohli',\n",
       "  'Mobile Number': 9588771234,\n",
       "  'Password': 9876543,\n",
       "  'email_id': 'virat_kohli@gmail.com',\n",
       "  'Location': 'Delhi'},\n",
       " {'Name': 'Sachin',\n",
       "  'Mobile Number': 8765432123,\n",
       "  'Password': 'SachinT',\n",
       "  'email_id': 'sachin@gmail.com',\n",
       "  'Location': 'Mumbai'}]"
      ]
     },
     "execution_count": 99,
     "metadata": {},
     "output_type": "execute_result"
    }
   ],
   "source": [
    "query = {\"Location\":{\"$regex\" : \"i$\"}}\n",
    "data = collection_user.find(query, {'_id' : 0})\n",
    "list(data)"
   ]
  },
  {
   "cell_type": "code",
   "execution_count": 101,
   "id": "gorgeous-collector",
   "metadata": {},
   "outputs": [
    {
     "data": {
      "text/plain": [
       "[{'Name': 'Rohit Sharma',\n",
       "  'Mobile Number': 9801234567,\n",
       "  'Password': 12345,\n",
       "  'email_id': 'rohit_sharma@gmail.com',\n",
       "  'Location': 'Mumbai'},\n",
       " {'Name': 'Rohit Sharma',\n",
       "  'Mobile Number': 9888776655,\n",
       "  'Password': 'ASDFGGHJK',\n",
       "  'email_id': 'rohit_sharma@gmail.com',\n",
       "  'Location': 'Mumbai'},\n",
       " {'Name': 'Sachin',\n",
       "  'Mobile Number': 8765432123,\n",
       "  'Password': 'SachinT',\n",
       "  'email_id': 'sachin@gmail.com',\n",
       "  'Location': 'Mumbai'}]"
      ]
     },
     "execution_count": 101,
     "metadata": {},
     "output_type": "execute_result"
    }
   ],
   "source": [
    "query = {\"Location\":{\"$regex\" : \"Mumbai$\"}}\n",
    "data = collection_user.find(query, {'_id' : 0})\n",
    "list(data)"
   ]
  },
  {
   "cell_type": "code",
   "execution_count": 103,
   "id": "elect-impression",
   "metadata": {},
   "outputs": [
    {
     "data": {
      "text/html": [
       "<div>\n",
       "<style scoped>\n",
       "    .dataframe tbody tr th:only-of-type {\n",
       "        vertical-align: middle;\n",
       "    }\n",
       "\n",
       "    .dataframe tbody tr th {\n",
       "        vertical-align: top;\n",
       "    }\n",
       "\n",
       "    .dataframe thead th {\n",
       "        text-align: right;\n",
       "    }\n",
       "</style>\n",
       "<table border=\"1\" class=\"dataframe\">\n",
       "  <thead>\n",
       "    <tr style=\"text-align: right;\">\n",
       "      <th></th>\n",
       "      <th>Emp ID</th>\n",
       "      <th>First Name</th>\n",
       "      <th>Salary</th>\n",
       "      <th>City</th>\n",
       "    </tr>\n",
       "  </thead>\n",
       "  <tbody>\n",
       "    <tr>\n",
       "      <th>0</th>\n",
       "      <td>677509</td>\n",
       "      <td>Lois</td>\n",
       "      <td>168251</td>\n",
       "      <td>Denver</td>\n",
       "    </tr>\n",
       "    <tr>\n",
       "      <th>1</th>\n",
       "      <td>940761</td>\n",
       "      <td>Brenda</td>\n",
       "      <td>51063</td>\n",
       "      <td>Stonewall</td>\n",
       "    </tr>\n",
       "    <tr>\n",
       "      <th>2</th>\n",
       "      <td>428945</td>\n",
       "      <td>Joe</td>\n",
       "      <td>50155</td>\n",
       "      <td>Michigantown</td>\n",
       "    </tr>\n",
       "    <tr>\n",
       "      <th>3</th>\n",
       "      <td>408351</td>\n",
       "      <td>Diane</td>\n",
       "      <td>180294</td>\n",
       "      <td>Hydetown</td>\n",
       "    </tr>\n",
       "    <tr>\n",
       "      <th>4</th>\n",
       "      <td>193819</td>\n",
       "      <td>Benjamin</td>\n",
       "      <td>117642</td>\n",
       "      <td>Fremont</td>\n",
       "    </tr>\n",
       "    <tr>\n",
       "      <th>5</th>\n",
       "      <td>499687</td>\n",
       "      <td>Patrick</td>\n",
       "      <td>72305</td>\n",
       "      <td>Macksburg</td>\n",
       "    </tr>\n",
       "    <tr>\n",
       "      <th>6</th>\n",
       "      <td>539712</td>\n",
       "      <td>Nancy</td>\n",
       "      <td>98189</td>\n",
       "      <td>Atlanta</td>\n",
       "    </tr>\n",
       "    <tr>\n",
       "      <th>7</th>\n",
       "      <td>380086</td>\n",
       "      <td>Carol</td>\n",
       "      <td>60918</td>\n",
       "      <td>Blanchester</td>\n",
       "    </tr>\n",
       "    <tr>\n",
       "      <th>8</th>\n",
       "      <td>477616</td>\n",
       "      <td>Frances</td>\n",
       "      <td>121587</td>\n",
       "      <td>Delmita</td>\n",
       "    </tr>\n",
       "    <tr>\n",
       "      <th>9</th>\n",
       "      <td>162402</td>\n",
       "      <td>Diana</td>\n",
       "      <td>43010</td>\n",
       "      <td>Eureka Springs</td>\n",
       "    </tr>\n",
       "  </tbody>\n",
       "</table>\n",
       "</div>"
      ],
      "text/plain": [
       "   Emp ID First Name  Salary            City\n",
       "0  677509       Lois  168251          Denver\n",
       "1  940761     Brenda   51063       Stonewall\n",
       "2  428945        Joe   50155    Michigantown\n",
       "3  408351      Diane  180294        Hydetown\n",
       "4  193819   Benjamin  117642         Fremont\n",
       "5  499687    Patrick   72305       Macksburg\n",
       "6  539712      Nancy   98189         Atlanta\n",
       "7  380086      Carol   60918     Blanchester\n",
       "8  477616    Frances  121587         Delmita\n",
       "9  162402      Diana   43010  Eureka Springs"
      ]
     },
     "execution_count": 103,
     "metadata": {},
     "output_type": "execute_result"
    }
   ],
   "source": [
    "emp_df"
   ]
  },
  {
   "cell_type": "code",
   "execution_count": 107,
   "id": "recent-rider",
   "metadata": {},
   "outputs": [
    {
     "data": {
      "text/plain": [
       "[{'First Name': 'Diana', 'Salary': 43010, 'City': 'Eureka Springs'},\n",
       " {'First Name': 'Diane', 'Salary': 180294, 'City': 'Hydetown'},\n",
       " {'First Name': 'Frances', 'Salary': 121587, 'City': 'Delmita'},\n",
       " {'First Name': 'Joe', 'Salary': 50155, 'City': 'Michigantown'},\n",
       " {'First Name': 'Lois', 'Salary': 168251, 'City': 'Denver'},\n",
       " {'First Name': 'Nancy', 'Salary': 98189, 'City': 'Atlanta'},\n",
       " {'First Name': 'Patrick', 'Salary': 72305, 'City': 'Macksburg'}]"
      ]
     },
     "execution_count": 107,
     "metadata": {},
     "output_type": "execute_result"
    }
   ],
   "source": [
    "query = {\"First Name\":{\"$gt\" : \"D\"}}\n",
    "data = collection_emp_data.find(query, {'_id' : 0,'Emp ID':0}).sort('First Name')\n",
    "list(data)"
   ]
  },
  {
   "cell_type": "code",
   "execution_count": 110,
   "id": "several-hollywood",
   "metadata": {},
   "outputs": [
    {
     "data": {
      "text/plain": [
       "[{'First Name': 'Brenda', 'Salary': 51063, 'City': 'Stonewall'},\n",
       " {'First Name': 'Carol', 'Salary': 60918, 'City': 'Blanchester'},\n",
       " {'First Name': 'Patrick', 'Salary': 72305, 'City': 'Macksburg'},\n",
       " {'First Name': 'Nancy', 'Salary': 98189, 'City': 'Atlanta'},\n",
       " {'First Name': 'Benjamin', 'Salary': 117642, 'City': 'Fremont'},\n",
       " {'First Name': 'Frances', 'Salary': 121587, 'City': 'Delmita'},\n",
       " {'First Name': 'Lois', 'Salary': 168251, 'City': 'Denver'},\n",
       " {'First Name': 'Diane', 'Salary': 180294, 'City': 'Hydetown'}]"
      ]
     },
     "execution_count": 110,
     "metadata": {},
     "output_type": "execute_result"
    }
   ],
   "source": [
    "query = {\"Salary\":{\"$gt\" : 50155}}\n",
    "data = collection_emp_data.find(query, {'_id' : 0,'Emp ID':0}).sort('Salary')\n",
    "list(data)"
   ]
  },
  {
   "cell_type": "code",
   "execution_count": 112,
   "id": "vocational-canon",
   "metadata": {},
   "outputs": [
    {
     "data": {
      "text/plain": [
       "[{'First Name': 'Nancy', 'Salary': 98189, 'City': 'Atlanta'},\n",
       " {'First Name': 'Benjamin', 'Salary': 117642, 'City': 'Fremont'},\n",
       " {'First Name': 'Frances', 'Salary': 121587, 'City': 'Delmita'},\n",
       " {'First Name': 'Lois', 'Salary': 168251, 'City': 'Denver'},\n",
       " {'First Name': 'Diane', 'Salary': 180294, 'City': 'Hydetown'}]"
      ]
     },
     "execution_count": 112,
     "metadata": {},
     "output_type": "execute_result"
    }
   ],
   "source": [
    "query = {\"Salary\":{\"$gt\" : 90000}}\n",
    "data = collection_emp_data.find(query, {'_id' : 0,'Emp ID':0}).sort('Salary')\n",
    "list(data)"
   ]
  },
  {
   "cell_type": "code",
   "execution_count": 114,
   "id": "knowing-radio",
   "metadata": {},
   "outputs": [
    {
     "data": {
      "text/plain": [
       "[{'First Name': 'Diana', 'Salary': 43010, 'City': 'Eureka Springs'},\n",
       " {'First Name': 'Joe', 'Salary': 50155, 'City': 'Michigantown'},\n",
       " {'First Name': 'Brenda', 'Salary': 51063, 'City': 'Stonewall'},\n",
       " {'First Name': 'Carol', 'Salary': 60918, 'City': 'Blanchester'},\n",
       " {'First Name': 'Patrick', 'Salary': 72305, 'City': 'Macksburg'}]"
      ]
     },
     "execution_count": 114,
     "metadata": {},
     "output_type": "execute_result"
    }
   ],
   "source": [
    "query = {\"Salary\":{\"$lt\" : 90000}}\n",
    "data = collection_emp_data.find(query, {'_id' : 0,'Emp ID':0}).sort('Salary')\n",
    "list(data)"
   ]
  },
  {
   "cell_type": "code",
   "execution_count": 153,
   "id": "challenging-israeli",
   "metadata": {},
   "outputs": [
    {
     "data": {
      "text/plain": [
       "[]"
      ]
     },
     "execution_count": 153,
     "metadata": {},
     "output_type": "execute_result"
    }
   ],
   "source": [
    "data = collection_emp_data.find({\"_id\":'6392b9c84c7be5dac6cf3a74'})\n",
    "list(data)"
   ]
  },
  {
   "cell_type": "code",
   "execution_count": 150,
   "id": "controlled-career",
   "metadata": {},
   "outputs": [
    {
     "data": {
      "text/plain": [
       "[{'_id': ObjectId('6392b9c84c7be5dac6cf3a74'),\n",
       "  'Emp ID': 940761,\n",
       "  'First Name': 'Brenda',\n",
       "  'Salary': 51063,\n",
       "  'City': 'Stonewall'},\n",
       " {'_id': ObjectId('6392b9c84c7be5dac6cf3a75'),\n",
       "  'Emp ID': 428945,\n",
       "  'First Name': 'Joe',\n",
       "  'Salary': 50155,\n",
       "  'City': 'Michigantown'},\n",
       " {'_id': ObjectId('6392b9c84c7be5dac6cf3a77'),\n",
       "  'Emp ID': 193819,\n",
       "  'First Name': 'Benjamin',\n",
       "  'Salary': 100000,\n",
       "  'City': 'Paris'},\n",
       " {'_id': ObjectId('6392b9c84c7be5dac6cf3a78'),\n",
       "  'Emp ID': 499687,\n",
       "  'First Name': 'Patrick',\n",
       "  'Salary': 72305,\n",
       "  'City': 'Macksburg'},\n",
       " {'_id': ObjectId('6392b9c84c7be5dac6cf3a79'),\n",
       "  'Emp ID': 539712,\n",
       "  'First Name': 'Nancy',\n",
       "  'Salary': 100000,\n",
       "  'City': 'Paris'},\n",
       " {'_id': ObjectId('6392b9c84c7be5dac6cf3a7a'),\n",
       "  'Emp ID': 380086,\n",
       "  'First Name': 'Carol',\n",
       "  'Salary': 60918,\n",
       "  'City': 'Blanchester'},\n",
       " {'_id': ObjectId('6392b9c84c7be5dac6cf3a7b'),\n",
       "  'Emp ID': 477616,\n",
       "  'First Name': 'Frances',\n",
       "  'Salary': 100000,\n",
       "  'City': 'Paris'},\n",
       " {'_id': ObjectId('6392b9c84c7be5dac6cf3a7c'),\n",
       "  'Emp ID': 162402,\n",
       "  'First Name': 'Diana',\n",
       "  'Salary': 43010,\n",
       "  'City': 'Paris'}]"
      ]
     },
     "execution_count": 150,
     "metadata": {},
     "output_type": "execute_result"
    }
   ],
   "source": [
    "data = collection_emp_data.find()\n",
    "list(data)"
   ]
  },
  {
   "cell_type": "markdown",
   "id": "industrial-program",
   "metadata": {},
   "source": [
    "### 5. Delete "
   ]
  },
  {
   "cell_type": "markdown",
   "id": "engaging-soldier",
   "metadata": {},
   "source": [
    "#### 5.1 Delete_one"
   ]
  },
  {
   "cell_type": "code",
   "execution_count": null,
   "id": "stable-colony",
   "metadata": {},
   "outputs": [],
   "source": [
    "collection_user.delete_one()"
   ]
  },
  {
   "cell_type": "code",
   "execution_count": 115,
   "id": "metallic-indonesian",
   "metadata": {},
   "outputs": [
    {
     "data": {
      "text/plain": [
       "<pymongo.results.DeleteResult at 0x1f96a835900>"
      ]
     },
     "execution_count": 115,
     "metadata": {},
     "output_type": "execute_result"
    }
   ],
   "source": [
    "collection_user.delete_one({'Name':'Rohit Sharma'})"
   ]
  },
  {
   "cell_type": "code",
   "execution_count": 116,
   "id": "cross-victoria",
   "metadata": {},
   "outputs": [
    {
     "data": {
      "text/plain": [
       "<pymongo.results.DeleteResult at 0x1f96a4daa80>"
      ]
     },
     "execution_count": 116,
     "metadata": {},
     "output_type": "execute_result"
    }
   ],
   "source": [
    "collection_user.delete_one({'Location':'Mumbai'})"
   ]
  },
  {
   "cell_type": "markdown",
   "id": "dependent-serum",
   "metadata": {},
   "source": [
    "### 5.2 delete_many"
   ]
  },
  {
   "cell_type": "code",
   "execution_count": null,
   "id": "treated-clinic",
   "metadata": {},
   "outputs": [],
   "source": [
    "collection.delete_many(query)"
   ]
  },
  {
   "cell_type": "code",
   "execution_count": 120,
   "id": "processed-zoning",
   "metadata": {},
   "outputs": [
    {
     "data": {
      "text/plain": [
       "<pymongo.results.DeleteResult at 0x1f96ac150c0>"
      ]
     },
     "execution_count": 120,
     "metadata": {},
     "output_type": "execute_result"
    }
   ],
   "source": [
    "collection_user.delete_many({\"Location\":\"Delhi\"})"
   ]
  },
  {
   "cell_type": "code",
   "execution_count": 121,
   "id": "civil-apparatus",
   "metadata": {},
   "outputs": [
    {
     "data": {
      "text/html": [
       "<div>\n",
       "<style scoped>\n",
       "    .dataframe tbody tr th:only-of-type {\n",
       "        vertical-align: middle;\n",
       "    }\n",
       "\n",
       "    .dataframe tbody tr th {\n",
       "        vertical-align: top;\n",
       "    }\n",
       "\n",
       "    .dataframe thead th {\n",
       "        text-align: right;\n",
       "    }\n",
       "</style>\n",
       "<table border=\"1\" class=\"dataframe\">\n",
       "  <thead>\n",
       "    <tr style=\"text-align: right;\">\n",
       "      <th></th>\n",
       "      <th>Emp ID</th>\n",
       "      <th>First Name</th>\n",
       "      <th>Salary</th>\n",
       "      <th>City</th>\n",
       "    </tr>\n",
       "  </thead>\n",
       "  <tbody>\n",
       "    <tr>\n",
       "      <th>0</th>\n",
       "      <td>677509</td>\n",
       "      <td>Lois</td>\n",
       "      <td>168251</td>\n",
       "      <td>Denver</td>\n",
       "    </tr>\n",
       "    <tr>\n",
       "      <th>1</th>\n",
       "      <td>940761</td>\n",
       "      <td>Brenda</td>\n",
       "      <td>51063</td>\n",
       "      <td>Stonewall</td>\n",
       "    </tr>\n",
       "    <tr>\n",
       "      <th>2</th>\n",
       "      <td>428945</td>\n",
       "      <td>Joe</td>\n",
       "      <td>50155</td>\n",
       "      <td>Michigantown</td>\n",
       "    </tr>\n",
       "    <tr>\n",
       "      <th>3</th>\n",
       "      <td>408351</td>\n",
       "      <td>Diane</td>\n",
       "      <td>180294</td>\n",
       "      <td>Hydetown</td>\n",
       "    </tr>\n",
       "    <tr>\n",
       "      <th>4</th>\n",
       "      <td>193819</td>\n",
       "      <td>Benjamin</td>\n",
       "      <td>117642</td>\n",
       "      <td>Fremont</td>\n",
       "    </tr>\n",
       "    <tr>\n",
       "      <th>5</th>\n",
       "      <td>499687</td>\n",
       "      <td>Patrick</td>\n",
       "      <td>72305</td>\n",
       "      <td>Macksburg</td>\n",
       "    </tr>\n",
       "    <tr>\n",
       "      <th>6</th>\n",
       "      <td>539712</td>\n",
       "      <td>Nancy</td>\n",
       "      <td>98189</td>\n",
       "      <td>Atlanta</td>\n",
       "    </tr>\n",
       "    <tr>\n",
       "      <th>7</th>\n",
       "      <td>380086</td>\n",
       "      <td>Carol</td>\n",
       "      <td>60918</td>\n",
       "      <td>Blanchester</td>\n",
       "    </tr>\n",
       "    <tr>\n",
       "      <th>8</th>\n",
       "      <td>477616</td>\n",
       "      <td>Frances</td>\n",
       "      <td>121587</td>\n",
       "      <td>Delmita</td>\n",
       "    </tr>\n",
       "    <tr>\n",
       "      <th>9</th>\n",
       "      <td>162402</td>\n",
       "      <td>Diana</td>\n",
       "      <td>43010</td>\n",
       "      <td>Eureka Springs</td>\n",
       "    </tr>\n",
       "  </tbody>\n",
       "</table>\n",
       "</div>"
      ],
      "text/plain": [
       "   Emp ID First Name  Salary            City\n",
       "0  677509       Lois  168251          Denver\n",
       "1  940761     Brenda   51063       Stonewall\n",
       "2  428945        Joe   50155    Michigantown\n",
       "3  408351      Diane  180294        Hydetown\n",
       "4  193819   Benjamin  117642         Fremont\n",
       "5  499687    Patrick   72305       Macksburg\n",
       "6  539712      Nancy   98189         Atlanta\n",
       "7  380086      Carol   60918     Blanchester\n",
       "8  477616    Frances  121587         Delmita\n",
       "9  162402      Diana   43010  Eureka Springs"
      ]
     },
     "execution_count": 121,
     "metadata": {},
     "output_type": "execute_result"
    }
   ],
   "source": [
    "emp_df"
   ]
  },
  {
   "cell_type": "code",
   "execution_count": 126,
   "id": "adverse-protein",
   "metadata": {},
   "outputs": [
    {
     "data": {
      "text/plain": [
       "<pymongo.results.DeleteResult at 0x1f96ad35a40>"
      ]
     },
     "execution_count": 126,
     "metadata": {},
     "output_type": "execute_result"
    }
   ],
   "source": [
    "query = {\"Salary\":{\"$gt\" : 150000}}\n",
    "collection_emp_data.delete_many(query)"
   ]
  },
  {
   "cell_type": "markdown",
   "id": "every-affiliate",
   "metadata": {},
   "source": [
    "### 6. Update"
   ]
  },
  {
   "cell_type": "markdown",
   "id": "placed-interstate",
   "metadata": {},
   "source": [
    "#### 6.1 update_one()"
   ]
  },
  {
   "cell_type": "code",
   "execution_count": null,
   "id": "forced-illustration",
   "metadata": {},
   "outputs": [],
   "source": [
    "collection.update_one(old_data_query , new_data_query)"
   ]
  },
  {
   "cell_type": "code",
   "execution_count": 132,
   "id": "relative-court",
   "metadata": {},
   "outputs": [
    {
     "data": {
      "text/plain": [
       "[{'First Name': 'Brenda', 'Salary': 51063, 'City': 'Stonewall'},\n",
       " {'First Name': 'Joe', 'Salary': 50155, 'City': 'Michigantown'},\n",
       " {'First Name': 'Benjamin', 'Salary': 117642, 'City': 'Fremont'},\n",
       " {'First Name': 'Patrick', 'Salary': 72305, 'City': 'Macksburg'},\n",
       " {'First Name': 'Nancy', 'Salary': 98189, 'City': 'Atlanta'},\n",
       " {'First Name': 'Carol', 'Salary': 60918, 'City': 'Blanchester'},\n",
       " {'First Name': 'Frances', 'Salary': 121587, 'City': 'Delmita'},\n",
       " {'First Name': 'Diana', 'Salary': 43010, 'City': 'Eureka Springs'}]"
      ]
     },
     "execution_count": 132,
     "metadata": {},
     "output_type": "execute_result"
    }
   ],
   "source": [
    "data = list(collection_emp_data.find({},{'_id':0,'Emp ID':0}))\n",
    "data"
   ]
  },
  {
   "cell_type": "code",
   "execution_count": 134,
   "id": "natural-wales",
   "metadata": {},
   "outputs": [
    {
     "data": {
      "text/plain": [
       "<pymongo.results.UpdateResult at 0x1f96a0d4ac0>"
      ]
     },
     "execution_count": 134,
     "metadata": {},
     "output_type": "execute_result"
    }
   ],
   "source": [
    "old_data_query = {\"City\":\"Eureka Springs\"}\n",
    "new_data_query = {\"$set\":{\"City\":\"Paris\"}}\n",
    "collection_emp_data.update_one(old_data_query,new_data_query)"
   ]
  },
  {
   "cell_type": "code",
   "execution_count": 135,
   "id": "dated-carry",
   "metadata": {},
   "outputs": [
    {
     "data": {
      "text/plain": [
       "<pymongo.results.UpdateResult at 0x1f96966e600>"
      ]
     },
     "execution_count": 135,
     "metadata": {},
     "output_type": "execute_result"
    }
   ],
   "source": [
    "old_data_query = {\"Salary\":{\"$gt\" : 90000}}\n",
    "\n",
    "new_data_query = {\"$set\":{\"City\":\"Paris\"}}\n",
    "collection_emp_data.update_one(old_data_query,new_data_query)"
   ]
  },
  {
   "cell_type": "markdown",
   "id": "destroyed-indonesia",
   "metadata": {},
   "source": [
    "### 6.2 update_many()"
   ]
  },
  {
   "cell_type": "code",
   "execution_count": 136,
   "id": "steady-meaning",
   "metadata": {},
   "outputs": [
    {
     "data": {
      "text/plain": [
       "<pymongo.results.UpdateResult at 0x1f96ac59b40>"
      ]
     },
     "execution_count": 136,
     "metadata": {},
     "output_type": "execute_result"
    }
   ],
   "source": [
    "old_data_query = {\"Salary\":{\"$gt\" : 90000}}\n",
    "\n",
    "new_data_query = {\"$set\":{\"City\":\"Paris\"}}\n",
    "collection_emp_data.update_many(old_data_query,new_data_query)"
   ]
  },
  {
   "cell_type": "code",
   "execution_count": 137,
   "id": "consecutive-phrase",
   "metadata": {},
   "outputs": [
    {
     "data": {
      "text/plain": [
       "<pymongo.results.UpdateResult at 0x1f96ac59bc0>"
      ]
     },
     "execution_count": 137,
     "metadata": {},
     "output_type": "execute_result"
    }
   ],
   "source": [
    "old_data_query = {\"Salary\":{\"$gt\" : 90000}}\n",
    "\n",
    "new_data_query = {\"$set\":{\"Salary\":100000}}\n",
    "collection_emp_data.update_many(old_data_query,new_data_query)"
   ]
  },
  {
   "cell_type": "code",
   "execution_count": 141,
   "id": "fancy-behalf",
   "metadata": {},
   "outputs": [
    {
     "data": {
      "text/plain": [
       "[{'First Name': 'Brenda', 'Salary': 51063, 'City': 'Stonewall'},\n",
       " {'First Name': 'Joe', 'Salary': 50155, 'City': 'Michigantown'},\n",
       " {'First Name': 'Benjamin', 'Salary': 100000, 'City': 'Paris'},\n",
       " {'First Name': 'Patrick', 'Salary': 72305, 'City': 'Macksburg'},\n",
       " {'First Name': 'Nancy', 'Salary': 100000, 'City': 'Paris'},\n",
       " {'First Name': 'Carol', 'Salary': 60918, 'City': 'Blanchester'},\n",
       " {'First Name': 'Frances', 'Salary': 100000, 'City': 'Paris'},\n",
       " {'First Name': 'Diana', 'Salary': 43010, 'City': 'Paris'}]"
      ]
     },
     "execution_count": 141,
     "metadata": {},
     "output_type": "execute_result"
    }
   ],
   "source": [
    "data = list(collection_emp_data.find({},{'_id':0,'Emp ID':0}))\n",
    "data"
   ]
  },
  {
   "cell_type": "markdown",
   "id": "outer-advisory",
   "metadata": {},
   "source": [
    "## Create DataFrame from Data"
   ]
  },
  {
   "cell_type": "code",
   "execution_count": 143,
   "id": "timely-italy",
   "metadata": {},
   "outputs": [
    {
     "data": {
      "text/html": [
       "<div>\n",
       "<style scoped>\n",
       "    .dataframe tbody tr th:only-of-type {\n",
       "        vertical-align: middle;\n",
       "    }\n",
       "\n",
       "    .dataframe tbody tr th {\n",
       "        vertical-align: top;\n",
       "    }\n",
       "\n",
       "    .dataframe thead th {\n",
       "        text-align: right;\n",
       "    }\n",
       "</style>\n",
       "<table border=\"1\" class=\"dataframe\">\n",
       "  <thead>\n",
       "    <tr style=\"text-align: right;\">\n",
       "      <th></th>\n",
       "      <th>First Name</th>\n",
       "      <th>Salary</th>\n",
       "      <th>City</th>\n",
       "    </tr>\n",
       "  </thead>\n",
       "  <tbody>\n",
       "    <tr>\n",
       "      <th>0</th>\n",
       "      <td>Brenda</td>\n",
       "      <td>51063</td>\n",
       "      <td>Stonewall</td>\n",
       "    </tr>\n",
       "    <tr>\n",
       "      <th>1</th>\n",
       "      <td>Joe</td>\n",
       "      <td>50155</td>\n",
       "      <td>Michigantown</td>\n",
       "    </tr>\n",
       "    <tr>\n",
       "      <th>2</th>\n",
       "      <td>Benjamin</td>\n",
       "      <td>100000</td>\n",
       "      <td>Paris</td>\n",
       "    </tr>\n",
       "    <tr>\n",
       "      <th>3</th>\n",
       "      <td>Patrick</td>\n",
       "      <td>72305</td>\n",
       "      <td>Macksburg</td>\n",
       "    </tr>\n",
       "    <tr>\n",
       "      <th>4</th>\n",
       "      <td>Nancy</td>\n",
       "      <td>100000</td>\n",
       "      <td>Paris</td>\n",
       "    </tr>\n",
       "    <tr>\n",
       "      <th>5</th>\n",
       "      <td>Carol</td>\n",
       "      <td>60918</td>\n",
       "      <td>Blanchester</td>\n",
       "    </tr>\n",
       "    <tr>\n",
       "      <th>6</th>\n",
       "      <td>Frances</td>\n",
       "      <td>100000</td>\n",
       "      <td>Paris</td>\n",
       "    </tr>\n",
       "    <tr>\n",
       "      <th>7</th>\n",
       "      <td>Diana</td>\n",
       "      <td>43010</td>\n",
       "      <td>Paris</td>\n",
       "    </tr>\n",
       "  </tbody>\n",
       "</table>\n",
       "</div>"
      ],
      "text/plain": [
       "  First Name  Salary          City\n",
       "0     Brenda   51063     Stonewall\n",
       "1        Joe   50155  Michigantown\n",
       "2   Benjamin  100000         Paris\n",
       "3    Patrick   72305     Macksburg\n",
       "4      Nancy  100000         Paris\n",
       "5      Carol   60918   Blanchester\n",
       "6    Frances  100000         Paris\n",
       "7      Diana   43010         Paris"
      ]
     },
     "execution_count": 143,
     "metadata": {},
     "output_type": "execute_result"
    }
   ],
   "source": [
    "pd.DataFrame(data)"
   ]
  },
  {
   "cell_type": "code",
   "execution_count": 144,
   "id": "retired-sympathy",
   "metadata": {},
   "outputs": [
    {
     "data": {
      "text/html": [
       "<div>\n",
       "<style scoped>\n",
       "    .dataframe tbody tr th:only-of-type {\n",
       "        vertical-align: middle;\n",
       "    }\n",
       "\n",
       "    .dataframe tbody tr th {\n",
       "        vertical-align: top;\n",
       "    }\n",
       "\n",
       "    .dataframe thead th {\n",
       "        text-align: right;\n",
       "    }\n",
       "</style>\n",
       "<table border=\"1\" class=\"dataframe\">\n",
       "  <thead>\n",
       "    <tr style=\"text-align: right;\">\n",
       "      <th></th>\n",
       "      <th>First Name</th>\n",
       "      <th>Salary</th>\n",
       "      <th>City</th>\n",
       "    </tr>\n",
       "  </thead>\n",
       "  <tbody>\n",
       "    <tr>\n",
       "      <th>0</th>\n",
       "      <td>Brenda</td>\n",
       "      <td>51063</td>\n",
       "      <td>Stonewall</td>\n",
       "    </tr>\n",
       "    <tr>\n",
       "      <th>1</th>\n",
       "      <td>Joe</td>\n",
       "      <td>50155</td>\n",
       "      <td>Michigantown</td>\n",
       "    </tr>\n",
       "    <tr>\n",
       "      <th>2</th>\n",
       "      <td>Benjamin</td>\n",
       "      <td>100000</td>\n",
       "      <td>Paris</td>\n",
       "    </tr>\n",
       "    <tr>\n",
       "      <th>3</th>\n",
       "      <td>Patrick</td>\n",
       "      <td>72305</td>\n",
       "      <td>Macksburg</td>\n",
       "    </tr>\n",
       "    <tr>\n",
       "      <th>4</th>\n",
       "      <td>Nancy</td>\n",
       "      <td>100000</td>\n",
       "      <td>Paris</td>\n",
       "    </tr>\n",
       "    <tr>\n",
       "      <th>5</th>\n",
       "      <td>Carol</td>\n",
       "      <td>60918</td>\n",
       "      <td>Blanchester</td>\n",
       "    </tr>\n",
       "    <tr>\n",
       "      <th>6</th>\n",
       "      <td>Frances</td>\n",
       "      <td>100000</td>\n",
       "      <td>Paris</td>\n",
       "    </tr>\n",
       "    <tr>\n",
       "      <th>7</th>\n",
       "      <td>Diana</td>\n",
       "      <td>43010</td>\n",
       "      <td>Paris</td>\n",
       "    </tr>\n",
       "  </tbody>\n",
       "</table>\n",
       "</div>"
      ],
      "text/plain": [
       "  First Name  Salary          City\n",
       "0     Brenda   51063     Stonewall\n",
       "1        Joe   50155  Michigantown\n",
       "2   Benjamin  100000         Paris\n",
       "3    Patrick   72305     Macksburg\n",
       "4      Nancy  100000         Paris\n",
       "5      Carol   60918   Blanchester\n",
       "6    Frances  100000         Paris\n",
       "7      Diana   43010         Paris"
      ]
     },
     "execution_count": 144,
     "metadata": {},
     "output_type": "execute_result"
    }
   ],
   "source": [
    "pd.DataFrame(data)"
   ]
  },
  {
   "cell_type": "code",
   "execution_count": null,
   "id": "armed-protein",
   "metadata": {},
   "outputs": [],
   "source": []
  }
 ],
 "metadata": {
  "kernelspec": {
   "display_name": "Python 3 (ipykernel)",
   "language": "python",
   "name": "python3"
  },
  "language_info": {
   "codemirror_mode": {
    "name": "ipython",
    "version": 3
   },
   "file_extension": ".py",
   "mimetype": "text/x-python",
   "name": "python",
   "nbconvert_exporter": "python",
   "pygments_lexer": "ipython3",
   "version": "3.10.5"
  }
 },
 "nbformat": 4,
 "nbformat_minor": 5
}
